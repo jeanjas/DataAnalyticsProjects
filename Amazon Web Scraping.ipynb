{
 "cells": [
  {
   "cell_type": "code",
   "execution_count": 1,
   "id": "a24ca558-7e84-4b0b-a826-5e842b9d9dcf",
   "metadata": {},
   "outputs": [],
   "source": [
    "# import libraries\n",
    "\n",
    "from bs4 import BeautifulSoup\n",
    "import requests\n",
    "import time\n",
    "import datetime\n",
    "\n",
    "import smtplib"
   ]
  },
  {
   "cell_type": "code",
   "execution_count": 49,
   "id": "a7acdd97-cc01-452f-a13d-066b074c37ce",
   "metadata": {},
   "outputs": [
    {
     "name": "stdout",
     "output_type": "stream",
     "text": [
      "\n",
      "             Playlearn 3.3ft Bubble Tube with Remote Control - 8 Fake Fish - Color Changing LED Lights - Sensory Bubble Lamp – Fake Fish Tank Floor Lamp\n",
      "            \n",
      "\n",
      "                 $108.99\n",
      "                \n"
     ]
    }
   ],
   "source": [
    "#Connect to Website and pull in data\n",
    "\n",
    "URL = 'https://www.amazon.com/Playlearn-3-3ft-Bubble-Remote-Control/dp/B00D6NPL4S/?_encoding=UTF8&pd_rd_w=EcjnN&content-id=amzn1.sym.b0f81224-c575-416a-93d9-20e612928432%3Aamzn1.symc.c7d845cb-4910-45f5-9826-0c6eb52c18fa&pf_rd_p=b0f81224-c575-416a-93d9-20e612928432&pf_rd_r=FP57AZCACZVDGA9JA7XT&pd_rd_wg=soJEz&pd_rd_r=ff47fd39-7399-4700-aa6a-13524a7a76c6&ref_=pd_hp_d_atf_ci_mcx_mr_ca_hp_atf_d&th=1'\n",
    "\n",
    "headers = {\"User-Agent\": \"Mozilla/5.0 (Windows NT 10.0; Win64; x64) AppleWebKit/537.36 (KHTML, like Gecko) Chrome/128.0.0.0 Safari/537.36 Edg/128.0.0.0\", \"Accept-Encoding\":\"gzip, deflate\", \"Accept\":\"text/html,application/xhtml+xml,application/xml;q=0.9,*/*;q=0.8\", \"DNT\":\"1\",\"Connection\":\"close\", \"Upgrade-Insecure-Requests\":\"1\"}\n",
    "\n",
    "page = requests.get(URL, headers=headers)\n",
    "\n",
    "soup1 = BeautifulSoup(page.content, \"html.parser\")\n",
    "\n",
    "soup2 = BeautifulSoup(soup1.prettify(), 'html.parser')\n",
    "\n",
    "title = soup2.find(id=\"productTitle\").get_text()\n",
    "\n",
    "price = soup2.find('span', {'class':'a-offscreen'}).get_text()\n",
    "\n",
    "print(title)\n",
    "print(price)\n"
   ]
  },
  {
   "cell_type": "code",
   "execution_count": 53,
   "id": "db9cd3f4-3d05-4e95-82b6-433b9ca841a0",
   "metadata": {},
   "outputs": [
    {
     "name": "stdout",
     "output_type": "stream",
     "text": [
      "Playlearn 3.3ft Bubble Tube with Remote Control - 8 Fake Fish - Color Changing LED Lights - Sensory Bubble Lamp – Fake Fish Tank Floor Lamp\n",
      "108.99\n"
     ]
    }
   ],
   "source": [
    "price = price.strip()[1:]\n",
    "title = title.strip()\n",
    "\n",
    "print(title)\n",
    "print(price)"
   ]
  },
  {
   "cell_type": "code",
   "execution_count": 60,
   "id": "1bebe18f-8a97-4078-8b63-06f0bfc7512f",
   "metadata": {},
   "outputs": [
    {
     "name": "stdout",
     "output_type": "stream",
     "text": [
      "2024-08-25\n"
     ]
    }
   ],
   "source": [
    "import datetime\n",
    "\n",
    "today = datetime.date.today()\n",
    "\n",
    "print(today)"
   ]
  },
  {
   "cell_type": "code",
   "execution_count": 61,
   "id": "f9285651-d3ad-488f-8f8e-2a854c7ecd06",
   "metadata": {},
   "outputs": [],
   "source": [
    "import csv\n",
    "\n",
    "header = ['Title', 'Price', 'Date']\n",
    "data =[title, price, today]\n",
    "\n",
    "with open('AmazonWebScraping.csv', 'w', newline='', encoding='UTF8') as f:\n",
    "    writer = csv.writer(f)\n",
    "    writer.writerow(header)\n",
    "    writer.writerow(data)"
   ]
  },
  {
   "cell_type": "code",
   "execution_count": 70,
   "id": "b94572df-3ecc-4e08-af68-47aec19a5c5e",
   "metadata": {},
   "outputs": [
    {
     "name": "stdout",
     "output_type": "stream",
     "text": [
      "                                               Title   Price        Date\n",
      "0  Playlearn 3.3ft Bubble Tube with Remote Contro...  108.99  2024-08-25\n",
      "1  Playlearn 3.3ft Bubble Tube with Remote Contro...  108.99  2024-08-25\n"
     ]
    }
   ],
   "source": [
    "import pandas as pd\n",
    "\n",
    "df = pd.read_csv(r'C:\\Users\\stale\\AmazonWebScraping.csv')\n",
    "\n",
    "print(df)"
   ]
  },
  {
   "cell_type": "code",
   "execution_count": null,
   "id": "85896c93-7820-4025-a834-2dc87e21044b",
   "metadata": {},
   "outputs": [],
   "source": [
    "#Now we are appending data to the csv\n",
    "\n",
    "with open('AmazonWebScraping.csv', 'a+', newline='', encoding='UTF8') as f:\n",
    "    writer = csv.writer(f)\n",
    "    writer.writerow(data)"
   ]
  },
  {
   "cell_type": "code",
   "execution_count": 71,
   "id": "a1b26c16-ad16-4c04-8c89-a2b3ebb75e07",
   "metadata": {},
   "outputs": [],
   "source": [
    "\n",
    "def check_price():\n",
    "    URL = 'https://www.amazon.com/Playlearn-3-3ft-Bubble-Remote-Control/dp/B00D6NPL4S/?_encoding=UTF8&pd_rd_w=EcjnN&content-id=amzn1.sym.b0f81224-c575-416a-93d9-20e612928432%3Aamzn1.symc.c7d845cb-4910-45f5-9826-0c6eb52c18fa&pf_rd_p=b0f81224-c575-416a-93d9-20e612928432&pf_rd_r=FP57AZCACZVDGA9JA7XT&pd_rd_wg=soJEz&pd_rd_r=ff47fd39-7399-4700-aa6a-13524a7a76c6&ref_=pd_hp_d_atf_ci_mcx_mr_ca_hp_atf_d&th=1'\n",
    "\n",
    "headers = {\"User-Agent\": \"Mozilla/5.0 (Windows NT 10.0; Win64; x64) AppleWebKit/537.36 (KHTML, like Gecko) Chrome/128.0.0.0 Safari/537.36 Edg/128.0.0.0\", \"Accept-Encoding\":\"gzip, deflate\", \"Accept\":\"text/html,application/xhtml+xml,application/xml;q=0.9,*/*;q=0.8\", \"DNT\":\"1\",\"Connection\":\"close\", \"Upgrade-Insecure-Requests\":\"1\"}\n",
    "\n",
    "page = requests.get(URL, headers=headers)\n",
    "\n",
    "soup1 = BeautifulSoup(page.content, \"html.parser\")\n",
    "\n",
    "soup2 = BeautifulSoup(soup1.prettify(), 'html.parser')\n",
    "\n",
    "title = soup2.find(id=\"productTitle\").get_text()\n",
    "\n",
    "price = soup2.find('span', {'class':'a-offscreen'}).get_text()\n",
    "\n",
    "price = price.strip()[1:]\n",
    "title = title.strip()\n",
    "\n",
    "import datetime\n",
    "\n",
    "today = datetime.date.today()\n",
    "\n",
    "import csv\n",
    "\n",
    "header = ['Title', 'Price', 'Date']\n",
    "data =[title, price, today]\n",
    "\n",
    "\n",
    "with open('AmazonWebScraping.csv', 'a+', newline='', encoding='UTF8') as f:\n",
    "    writer = csv.writer(f)\n",
    "    writer.writerow(data)\n"
   ]
  },
  {
   "cell_type": "code",
   "execution_count": null,
   "id": "7b5b0fe8-7e75-4a92-934e-7e3c16e0351a",
   "metadata": {},
   "outputs": [],
   "source": [
    "while(True):\n",
    "    check_price()\n",
    "    time.sleep(86400)"
   ]
  },
  {
   "cell_type": "code",
   "execution_count": 73,
   "id": "af8bb9aa-573f-4c97-94b6-e3b7615c6a54",
   "metadata": {},
   "outputs": [
    {
     "name": "stdout",
     "output_type": "stream",
     "text": [
      "                                               Title   Price        Date\n",
      "0  Playlearn 3.3ft Bubble Tube with Remote Contro...  108.99  2024-08-25\n",
      "1  Playlearn 3.3ft Bubble Tube with Remote Contro...  108.99  2024-08-25\n",
      "2  Playlearn 3.3ft Bubble Tube with Remote Contro...  108.99  2024-08-25\n"
     ]
    }
   ],
   "source": [
    "import pandas as pd\n",
    "\n",
    "df = pd.read_csv(r'C:\\Users\\stale\\AmazonWebScraping.csv')\n",
    "\n",
    "print(df)"
   ]
  },
  {
   "cell_type": "code",
   "execution_count": null,
   "id": "1aa625ee-9c10-4b6a-b5d4-7f37786526a3",
   "metadata": {},
   "outputs": [],
   "source": []
  },
  {
   "cell_type": "code",
   "execution_count": null,
   "id": "22c3fdc0-5642-4da8-9f1f-74b0204b14ac",
   "metadata": {},
   "outputs": [],
   "source": []
  },
  {
   "cell_type": "code",
   "execution_count": null,
   "id": "0fe7a0b4-6d57-495f-b8c4-c3ffba972433",
   "metadata": {},
   "outputs": [],
   "source": []
  },
  {
   "cell_type": "code",
   "execution_count": null,
   "id": "d61d4a64-2f6e-48ad-ba56-c8bc1a98a955",
   "metadata": {},
   "outputs": [],
   "source": []
  },
  {
   "cell_type": "code",
   "execution_count": null,
   "id": "73d6b54c-f1f2-4933-9080-c3c1bbeba751",
   "metadata": {},
   "outputs": [],
   "source": []
  },
  {
   "cell_type": "code",
   "execution_count": null,
   "id": "9e27d46b-6a22-4718-89e8-6a199d0d97cc",
   "metadata": {},
   "outputs": [],
   "source": []
  },
  {
   "cell_type": "code",
   "execution_count": null,
   "id": "2bcdbd3a-aa83-4662-a845-9a2d5ea8c42c",
   "metadata": {},
   "outputs": [],
   "source": []
  },
  {
   "cell_type": "code",
   "execution_count": null,
   "id": "314c76c7-ed57-4fee-be0c-142188d918ff",
   "metadata": {},
   "outputs": [],
   "source": []
  },
  {
   "cell_type": "code",
   "execution_count": null,
   "id": "1b08f89c-127a-4bf1-9b99-29445be81b94",
   "metadata": {},
   "outputs": [],
   "source": []
  },
  {
   "cell_type": "code",
   "execution_count": null,
   "id": "aaa18e67-8c72-4a79-a12a-eb42acf54d79",
   "metadata": {},
   "outputs": [],
   "source": []
  },
  {
   "cell_type": "code",
   "execution_count": null,
   "id": "d12e6fe2-55ff-456b-801a-3fa4419879aa",
   "metadata": {},
   "outputs": [],
   "source": []
  },
  {
   "cell_type": "code",
   "execution_count": null,
   "id": "143cecfc-9654-469b-a402-0af3c488d615",
   "metadata": {},
   "outputs": [],
   "source": []
  },
  {
   "cell_type": "code",
   "execution_count": null,
   "id": "bbdea040-017d-45d6-ae5a-d323be36e4ec",
   "metadata": {},
   "outputs": [],
   "source": []
  }
 ],
 "metadata": {
  "kernelspec": {
   "display_name": "Python 3 (ipykernel)",
   "language": "python",
   "name": "python3"
  },
  "language_info": {
   "codemirror_mode": {
    "name": "ipython",
    "version": 3
   },
   "file_extension": ".py",
   "mimetype": "text/x-python",
   "name": "python",
   "nbconvert_exporter": "python",
   "pygments_lexer": "ipython3",
   "version": "3.12.4"
  }
 },
 "nbformat": 4,
 "nbformat_minor": 5
}
